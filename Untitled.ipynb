{
 "cells": [
  {
   "cell_type": "code",
   "execution_count": null,
   "id": "4e544ede",
   "metadata": {},
   "outputs": [],
   "source": [
    "def palindrome(n):\n",
    "    rev=0\n",
    "    "
   ]
  },
  {
   "cell_type": "code",
   "execution_count": null,
   "id": "7f7206d2",
   "metadata": {},
   "outputs": [],
   "source": [
    "def isPalindrome():\n",
    "    return str(n)[::-1]==str(n)\n",
    "\n",
    "def reverse(n):\n",
    "    n=str(n)[::-1]\n",
    "    return int(n)\n",
    "\n",
    "n=int(input())\n",
    "\n",
    "while(True):\n",
    "    n=n+reverse(n)\n",
    "    if(isPalindrome(n)):\n",
    "        print(n)\n",
    "        break        \n",
    "    \n",
    "    "
   ]
  },
  {
   "cell_type": "code",
   "execution_count": null,
   "id": "c41856ab",
   "metadata": {},
   "outputs": [],
   "source": [
    "a='12345645'\n",
    "b=a[-1]\n",
    "print(b)"
   ]
  },
  {
   "cell_type": "code",
   "execution_count": null,
   "id": "2cc4759d",
   "metadata": {},
   "outputs": [],
   "source": [
    "n=5\n",
    "print(n/3)\n",
    "print(n//3)"
   ]
  },
  {
   "cell_type": "code",
   "execution_count": null,
   "id": "e6f08942",
   "metadata": {},
   "outputs": [],
   "source": [
    "def isPalindrome(n):\n",
    "    return str(n)[::-1]==str(n)\n",
    "def reverse(n):\n",
    "    return int(str(n)[::-1]) \n",
    "n=int(input())\n",
    "while (True):\n",
    "    n=n+reverse(n)\n",
    "    if(isPalindrome(n)):\n",
    "        print(n)\n",
    "        break"
   ]
  },
  {
   "cell_type": "code",
   "execution_count": null,
   "id": "6fb7ed69",
   "metadata": {},
   "outputs": [],
   "source": [
    "def isPalindrome(n):\n",
    "    return str(n)[::-1]==str(n)\n",
    "\n",
    "a=isPalindrome(51)\n",
    "print(a)"
   ]
  },
  {
   "cell_type": "code",
   "execution_count": 2,
   "id": "9a3f9ef8",
   "metadata": {},
   "outputs": [
    {
     "name": "stdout",
     "output_type": "stream",
     "text": [
      "2\n",
      "22\n"
     ]
    }
   ],
   "source": [
    "def Sum(n):\n",
    "    sum=0\n",
    "    n=str(n)\n",
    "    for i in range(len(n)):\n",
    "        sum += int(n[i])\n",
    "    return sum\n",
    "\n",
    "def Pro(n):\n",
    "    pro=1\n",
    "    n=str(n)\n",
    "    for i in range(len(n)):\n",
    "        pro *= int(n[i])\n",
    "    return pro\n",
    "\n",
    "n=int(input())\n",
    "min=10**(n-1)\n",
    "max=10**n -1\n",
    "for i in range(min,max+1):\n",
    "    c=Sum(i)\n",
    "    d=Pro(i)\n",
    "    if(c==d):\n",
    "        print(i)\n",
    "        break\n",
    "    else:\n",
    "        continue"
   ]
  },
  {
   "cell_type": "code",
   "execution_count": null,
   "id": "2ddeaa35",
   "metadata": {},
   "outputs": [],
   "source": [
    "n='12'\n",
    "n[0]"
   ]
  },
  {
   "cell_type": "code",
   "execution_count": null,
   "id": "8769d6f3",
   "metadata": {},
   "outputs": [],
   "source": [
    "n = int(input())\n",
    "if(n==1):\n",
    "    print(\"1\")\n",
    "else:\n",
    "    c='2'\n",
    "    c=c+str(n)\n",
    "    for i in range(n-2):\n",
    "        c=c+str(1)\n",
    "    \n",
    "    y=' '.join(sorted(c))\n",
    "    \n",
    "    print(y)\n",
    "        \n",
    "        \n",
    "        "
   ]
  },
  {
   "cell_type": "code",
   "execution_count": null,
   "id": "11f38380",
   "metadata": {},
   "outputs": [],
   "source": [
    "import numpy as np\n",
    "n=int(input())\n",
    "a=[]\n",
    "for i in range(1,n+1):\n",
    "    c=[int(d) for d in str(i)]\n",
    "    a.append(c)\n",
    "    \n",
    "    \n",
    "print(np.sum(a))\n",
    "print(np.prod(c))"
   ]
  },
  {
   "cell_type": "code",
   "execution_count": null,
   "id": "ba4c9ca5",
   "metadata": {},
   "outputs": [],
   "source": [
    "sum=0\n",
    "for i in range(1,5):\n",
    "    sum += i\n",
    "print(sum)"
   ]
  },
  {
   "cell_type": "code",
   "execution_count": 3,
   "id": "5c1a9ed4",
   "metadata": {},
   "outputs": [
    {
     "name": "stdout",
     "output_type": "stream",
     "text": [
      "9347679771\n",
      "60\n"
     ]
    }
   ],
   "source": [
    "n=int(input())\n",
    "n=str(n)\n",
    "sum=0\n",
    "for i in range(len(n)):\n",
    "    sum += int(n[i])\n",
    "print(sum)"
   ]
  },
  {
   "cell_type": "code",
   "execution_count": 7,
   "id": "9e59c0df",
   "metadata": {},
   "outputs": [
    {
     "name": "stdout",
     "output_type": "stream",
     "text": [
      "9493520105\n",
      "2\n"
     ]
    }
   ],
   "source": [
    "def Sum(n):\n",
    "    sum=0\n",
    "    n=str(n)\n",
    "    for i in range(len(n)):\n",
    "        sum += int(n[i])\n",
    "    return sum\n",
    "\n",
    "n=int(input())\n",
    "a=[1,2,3,4,5,6,7,8,9,0]\n",
    "while n>0:\n",
    "    if(n in a):\n",
    "        print(n)\n",
    "        break\n",
    "    else:\n",
    "        n=Sum(n)\n"
   ]
  },
  {
   "cell_type": "code",
   "execution_count": 4,
   "id": "629b4302",
   "metadata": {},
   "outputs": [
    {
     "name": "stdout",
     "output_type": "stream",
     "text": [
      "123\n",
      "321\n"
     ]
    }
   ],
   "source": [
    "n=input()\n",
    "n=str(n)[::-1]\n",
    "print(n)\n"
   ]
  },
  {
   "cell_type": "code",
   "execution_count": null,
   "id": "820b00f0",
   "metadata": {},
   "outputs": [],
   "source": []
  }
 ],
 "metadata": {
  "kernelspec": {
   "display_name": "Python 3",
   "language": "python",
   "name": "python3"
  },
  "language_info": {
   "codemirror_mode": {
    "name": "ipython",
    "version": 3
   },
   "file_extension": ".py",
   "mimetype": "text/x-python",
   "name": "python",
   "nbconvert_exporter": "python",
   "pygments_lexer": "ipython3",
   "version": "3.8.8"
  }
 },
 "nbformat": 4,
 "nbformat_minor": 5
}
